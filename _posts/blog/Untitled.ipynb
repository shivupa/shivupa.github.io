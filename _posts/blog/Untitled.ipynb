{
 "cells": [
  {
   "cell_type": "markdown",
   "metadata": {},
   "source": [
    "A side project that I've recently been working (or trying to work) on is coding a fast molecular integral library in c. An important function in the calculation of coulombic integrals is the Boys function, $F_n(x)$. This function is given by:\n",
    "$$ F_n(x) = \\int_0^1 e^{-xt^2} t^{2n} dt $$\n",
    "Evaluating this function frequently, accurately and quickly has been a focus of research for about the last half a century. I'll present a simple example here.\n",
    "\n",
    "The evaluation of the Boys function can be broken into two cases, large $x$ values and small $x$ values.\n",
    "# Large $x$ values:\n",
    "\n",
    "For large x values the boys function can be approximated as:\n",
    "\n",
    "$$F_n(x) = \\int_0^1 e^{-xt^2} t^{2n} dt \\approx \\int_0^\\infty e^{-xt^2} t^{2n} dt $$\n",
    "\n",
    "This is related to the incomplete gamma integral and can be integrated giving:\n",
    "$$F_n(x) \\approx \\frac{(2n-1)!!}{2^{n+1}} \\sqrt{\\frac{\\pi}{x^{2n+1}}} \\quad (x\\ \\mathrm{large})$$\n",
    "# Small $x$ values:\n",
    "To approximate the boys function for small $x$ values a Taylor expansion is employed:\n",
    "$$F_n(x) = \\sum_{k=0}^{\\infty} \\frac{(-x)^k}{k!(2n+2k+1)}$$\n",
    "An infinite series is impractical in application (obviously) so this is truncated to six terms to achieve reasonable accuracy in reasonable time.\n",
    "# Where does $x$ become large?\n",
    "This is a question which has been bothering me, but for now I sidestepped the issue by returning the lowest value calculated by the two methods.\n",
    "# Potential speed ups\n",
    "* I'm calculating both expressions each time which is really bad\n",
    "* I'm not implementing any recursion formula\n",
    "The later point is critical what I should be doing is calculating the Boys function at a very high order $n$ on a grid of $x$ points and using a downward recursion formula (upwards recursion is numerical unstable at smal $x$ values).\n",
    "# References\n",
    "1. [Molecular Electronic-Structure Theory](http://www.wiley.com/WileyCDA/WileyTitle/productCd-1118531477.html)\n",
    "2. [Evaluation of the Boys Function using Analytical Relations](http://link.springer.com/article/10.1007/s10910-005-9023-3)\n",
    "3. [A rigorous and optimized strategy for the evaluation of the Boys function kernel in molecular electronic structure theory](http://onlinelibrary.wiley.com/doi/10.1002/jcc.23935/abstract)\n",
    "4. [ACE algorithm for the rapid evaluation of the electron-repulsion integral over Gaussian-type orbitals](http://onlinelibrary.wiley.com/wol1/doi/10.1002/(SICI)1097-461X(1996\\)59:3%3C209::AID-QUA4%3E3.0.CO;2-1/abstract)"
   ]
  },
  {
   "cell_type": "code",
   "execution_count": null,
   "metadata": {
    "collapsed": true
   },
   "outputs": [],
   "source": []
  }
 ],
 "metadata": {
  "kernelspec": {
   "display_name": "Python 2",
   "language": "python",
   "name": "python2"
  },
  "language_info": {
   "codemirror_mode": {
    "name": "ipython",
    "version": 2
   },
   "file_extension": ".py",
   "mimetype": "text/x-python",
   "name": "python",
   "nbconvert_exporter": "python",
   "pygments_lexer": "ipython2",
   "version": "2.7.11"
  }
 },
 "nbformat": 4,
 "nbformat_minor": 0
}
